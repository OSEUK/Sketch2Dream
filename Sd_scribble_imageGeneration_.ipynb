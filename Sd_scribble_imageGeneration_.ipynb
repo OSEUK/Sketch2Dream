{
  "cells": [
    {
      "cell_type": "markdown",
      "metadata": {
        "id": "view-in-github",
        "colab_type": "text"
      },
      "source": [
        "<a href=\"https://colab.research.google.com/github/OSEUK/Sketch2Dream/blob/master/Sd_scribble_imageGeneration_.ipynb\" target=\"_parent\"><img src=\"https://colab.research.google.com/assets/colab-badge.svg\" alt=\"Open In Colab\"/></a>"
      ]
    },
    {
      "cell_type": "code",
      "source": [
        "# 본인 huggingface_hub 토큰으로 로그인\n",
        "from huggingface_hub import login\n",
        "login()"
      ],
      "metadata": {
        "collapsed": true,
        "id": "SiBrjnS0oJLH"
      },
      "execution_count": null,
      "outputs": []
    },
    {
      "cell_type": "code",
      "execution_count": null,
      "metadata": {
        "id": "J7wH55vT7PML",
        "collapsed": true
      },
      "outputs": [],
      "source": [
        "# 1. 필요한 라이브러리 설치\n",
        "!pip install diffusers transformers accelerate opencv-python safetensors\n",
        "!pip install flask-ngrok flask pyngrok\n",
        "!pip install flask-cors"
      ]
    },
    {
      "cell_type": "code",
      "execution_count": null,
      "metadata": {
        "id": "VljQGO1pmFQY",
        "collapsed": true
      },
      "outputs": [],
      "source": [
        "# 2. 모델 및 라이브러리 임포트\n",
        "from flask import Flask, request, jsonify\n",
        "from diffusers import StableDiffusionControlNetPipeline, ControlNetModel, UniPCMultistepScheduler\n",
        "import torch\n",
        "import cv2\n",
        "from PIL import Image\n",
        "import numpy as np\n",
        "import io\n",
        "from io import BytesIO\n",
        "from pyngrok import ngrok\n",
        "from flask_cors import CORS\n",
        "import base64\n",
        "\n",
        "\n",
        "# ngrok 터널 열기\n",
        "ngrok.set_auth_token(\"YOUR_NGROK_TOKEN\")  # 이 부분에 실제 Ngrok 토큰을 추가하세요\n",
        "ngrok_tunnel = ngrok.connect(5000)\n",
        "public_url = ngrok_tunnel.public_url  # 정확한 URL만 추출\n",
        "print(\"ngrok URL:\", public_url)\n",
        "\n",
        "# Flask 앱 설정\n",
        "app = Flask(__name__)\n",
        "# CORS 설정: 모든 경로에 대해 모든 출처에서의 요청 허용\n",
        "CORS(app, resources={r\"/*\": {\"origins\": \"*\"}})\n",
        "\n",
        "\n",
        "# 3. ControlNet scribble 모델 로드\n",
        "controlnet = ControlNetModel.from_pretrained(\n",
        "    \"lllyasviel/sd-controlnet-scribble\", torch_dtype=torch.float16\n",
        ")\n",
        "\n",
        "# 4. Stable Diffusion 모델과 ControlNet 파이프라인 설정\n",
        "pipe = StableDiffusionControlNetPipeline.from_pretrained(\n",
        "    \"CompVis/stable-diffusion-v1-4\", controlnet=controlnet, torch_dtype=torch.float16\n",
        ")\n",
        "\n",
        "# 5. GPU 사용 설정\n",
        "pipe.to(\"cuda\")\n",
        "\n",
        "# 스케줄러 설정 (더 나은 품질을 위해)\n",
        "pipe.scheduler = UniPCMultistepScheduler.from_config(pipe.scheduler.config)\n",
        "\n",
        "@app.route('/process_image', methods=['POST','OPTIONS'])\n",
        "def process_image():\n",
        "    # 이미지 수신\n",
        "    # 이미지 파일 수신\n",
        "    if request.method == 'OPTIONS':\n",
        "        return jsonify({'status': 'Preflight check successful'}), 200  # Preflight 요청에 대한 응답\n",
        "\n",
        "    data = request.json\n",
        "\n",
        "    input_text = data['text']  # 사용자의 텍스트 데이터\n",
        "    image_data = data['image']  # 이미지 데이터 (Base64 혹은 Data URL 형식)\n",
        "\n",
        "    # Base64 이미지 데이터가 제대로 수신되었는지 확인\n",
        "    print(f\"Received Base64 Image Data (first 100 chars): {image_data[:100]}\")\n",
        "    # Base64 이미지를 디코딩하여 PIL 이미지로 변환\n",
        "    try:\n",
        "        # \"data:image/png;base64,...\" 형식으로 되어있다면 쉼표 뒤의 데이터만 가져옴\n",
        "        image_data = image_data.split(\",\")[1]\n",
        "        image_bytes = base64.b64decode(image_data)\n",
        "        image = Image.open(BytesIO(image_bytes))\n",
        "\n",
        "    except Exception as e:\n",
        "        return jsonify({'error': 'Failed to process image', 'message': str(e)}), 400\n",
        "\n",
        "    # 프롬프트 설정\n",
        "    prompt = (\n",
        "        f\"Generate a high-resolution, realistic photograph of {input_text} based on this sketch. \"\n",
        "        \"The image should feature realistic lighting, sharp details, and a vivid background.\"\n",
        "    )\n",
        "    negative_prompt = \"sketch, drawing, cartoon, unrealistic, low quality, blurry, oversaturated\"\n",
        "\n",
        "    # 이미지 변환\n",
        "    with torch.no_grad():\n",
        "        result = pipe(prompt=prompt, image=image, negative_prompt=negative_prompt)\n",
        "\n",
        "    # 결과 이미지\n",
        "    result_image = result.images[0]\n",
        "\n",
        "    # 입력 이미지가 제대로 왔는 지 확인\n",
        "    input_path = '/content/input_image.png'\n",
        "    image.save(input_path)\n",
        "    # 생성된 이미지 파일로 저장\n",
        "    output_path = '/content/output_image.png'\n",
        "    result_image.save(output_path)\n",
        "\n",
        "    # 이미지를 메모리로 저장\n",
        "    buffered = BytesIO()\n",
        "    result_image.save(buffered, format=\"PNG\")\n",
        "\n",
        "    # 이미지 데이터를 Base64로 인코딩\n",
        "    img_str = base64.b64encode(buffered.getvalue()).decode(\"utf-8\")\n",
        "\n",
        "    # 변환된 이미지 URL을 클라이언트로 반환\n",
        "    image_url = f\"{public_url}{output_path}\"\n",
        "\n",
        "    return jsonify({'image_data': img_str})\n",
        "\n",
        "\n",
        "if __name__ == '__main__':\n",
        "    app.run()\n",
        "\n"
      ]
    },
    {
      "cell_type": "code",
      "execution_count": null,
      "metadata": {
        "id": "qJqnB1FU7Nwz"
      },
      "outputs": [],
      "source": [
        "# 계속하다가 뜬금없는 에러가 뜬다면 한번쯤 해보기\n",
        "!kill $(pgrep ngrok)"
      ]
    },
    {
      "cell_type": "markdown",
      "metadata": {
        "id": "kEaWqj_dx167"
      },
      "source": []
    }
  ],
  "metadata": {
    "accelerator": "GPU",
    "colab": {
      "gpuType": "T4",
      "machine_shape": "hm",
      "provenance": [],
      "mount_file_id": "1-FAq52nPJ-3NsB_sIvsgeIPTL867TJ7p",
      "authorship_tag": "ABX9TyP5oB5mgwBXre5LZt4DMHpm",
      "include_colab_link": true
    },
    "kernelspec": {
      "display_name": "Python 3",
      "name": "python3"
    },
    "language_info": {
      "name": "python"
    }
  },
  "nbformat": 4,
  "nbformat_minor": 0
}