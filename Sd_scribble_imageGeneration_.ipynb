{
  "cells": [
    {
      "cell_type": "markdown",
      "metadata": {
        "id": "view-in-github",
        "colab_type": "text"
      },
      "source": [
        "<a href=\"https://colab.research.google.com/github/OSEUK/Sketch2Dream/blob/master/Sd_scribble_imageGeneration_.ipynb\" target=\"_parent\"><img src=\"https://colab.research.google.com/assets/colab-badge.svg\" alt=\"Open In Colab\"/></a>"
      ]
    },
    {
      "cell_type": "code",
      "execution_count": null,
      "metadata": {
        "collapsed": true,
        "id": "SiBrjnS0oJLH"
      },
      "outputs": [],
      "source": [
        "# 본인 huggingface_hub 토큰으로 로그인\n",
        "from huggingface_hub import login\n",
        "login()"
      ]
    },
    {
      "cell_type": "code",
      "execution_count": null,
      "metadata": {
        "collapsed": true,
        "id": "J7wH55vT7PML"
      },
      "outputs": [],
      "source": [
        "# 1. 필요한 라이브러리 설치\n",
        "!pip install diffusers transformers accelerate opencv-python safetensors\n",
        "!pip install flask-ngrok flask pyngrok\n",
        "!pip install flask-cors"
      ]
    },
    {
      "cell_type": "code",
      "execution_count": null,
      "metadata": {
        "id": "Knojwc2dlXqL"
      },
      "outputs": [],
      "source": [
        "!pip install googletrans==4.0.0-rc1\n",
        "!pip install boto3"
      ]
    },
    {
      "cell_type": "code",
      "execution_count": null,
      "metadata": {
        "collapsed": true,
        "id": "VljQGO1pmFQY"
      },
      "outputs": [],
      "source": [
        "# 2. 모델 및 라이브러리 임포트\n",
        "from flask import Flask, request, jsonify\n",
        "from diffusers import StableDiffusionControlNetPipeline, ControlNetModel, UniPCMultistepScheduler\n",
        "import torch\n",
        "import cv2\n",
        "from PIL import Image , ImageOps\n",
        "import numpy as np\n",
        "import io\n",
        "from io import BytesIO\n",
        "from pyngrok import ngrok\n",
        "from flask_cors import CORS\n",
        "import base64\n",
        "from googletrans import Translator\n",
        "import boto3\n",
        "from werkzeug.utils import secure_filename\n",
        "import uuid\n",
        "\n",
        "\n",
        "# 모델 로드\n",
        "controlnet = ControlNetModel.from_pretrained(\n",
        "    \"lllyasviel/sd-controlnet-scribble\",\n",
        "    torch_dtype=torch.float16\n",
        ")\n",
        "pipe = StableDiffusionControlNetPipeline.from_pretrained(\n",
        "    \"runwayml/stable-diffusion-v1-5\",\n",
        "    controlnet=controlnet,\n",
        "    torch_dtype=torch.float16\n",
        ")\n",
        "\n",
        "# 5. GPU 사용 설정\n",
        "pipe.to(\"cuda\")\n",
        "\n",
        "# 스케줄러 설정 (더 나은 품질을 위해)\n",
        "pipe.scheduler = UniPCMultistepScheduler.from_config(pipe.scheduler.config)\n",
        "\n",
        "# 번역기 설정\n",
        "translator = Translator()\n",
        "\n",
        "\n"
      ]
    },
    {
      "cell_type": "code",
      "execution_count": null,
      "metadata": {
        "id": "qp3gXj_-pbG7"
      },
      "outputs": [],
      "source": [
        "\n",
        "\n",
        "# S3 버킷 목록 가져오기 테스트\n",
        "try:\n",
        "    response = s3.list_buckets()\n",
        "    print(\"S3 연결 성공:\", response['Buckets'])\n",
        "except Exception as e:\n",
        "    print(\"S3 연결 실패:\", str(e))"
      ]
    },
    {
      "cell_type": "code",
      "execution_count": 17,
      "metadata": {
        "colab": {
          "base_uri": "https://localhost:8080/",
          "height": 216,
          "referenced_widgets": [
            "5c103fe1691d43cb9cb161bc5e4378a9",
            "8711047a098b43dab56b843022d412c3",
            "21bb24812817434198c657fba9115889",
            "32917a4e2d7d4865910f032401395acb",
            "e797a5d2b269478084afa5a0973205c0",
            "c36cd70bd8374a3293c79ef190057360",
            "00b2ad171e7d47d59cdffb39b7af9866",
            "9b24d9f98c8449cd805488ef02f0059c",
            "7bde7a5fcc984793a64c4233a7dbcfc3",
            "e643dc46b7964445ad821439e5cd6420",
            "015957b1d0b34654bf3ac42e361ba77a"
          ]
        },
        "id": "6bIebzGapG1-",
        "outputId": "37f48593-006f-4e69-e261-fe3d25d41036"
      },
      "outputs": [
        {
          "output_type": "stream",
          "name": "stdout",
          "text": [
            "ngrok URL: https://d844-34-124-218-54.ngrok-free.app\n",
            " * Serving Flask app '__main__'\n",
            " * Debug mode: off\n"
          ]
        },
        {
          "output_type": "stream",
          "name": "stderr",
          "text": [
            "INFO:werkzeug:\u001b[31m\u001b[1mWARNING: This is a development server. Do not use it in a production deployment. Use a production WSGI server instead.\u001b[0m\n",
            " * Running on http://127.0.0.1:5000\n",
            "INFO:werkzeug:\u001b[33mPress CTRL+C to quit\u001b[0m\n"
          ]
        },
        {
          "output_type": "stream",
          "name": "stdout",
          "text": [
            "cup of coffee\n"
          ]
        },
        {
          "output_type": "display_data",
          "data": {
            "text/plain": [
              "  0%|          | 0/30 [00:00<?, ?it/s]"
            ],
            "application/vnd.jupyter.widget-view+json": {
              "version_major": 2,
              "version_minor": 0,
              "model_id": "5c103fe1691d43cb9cb161bc5e4378a9"
            }
          },
          "metadata": {}
        },
        {
          "output_type": "stream",
          "name": "stderr",
          "text": [
            "INFO:werkzeug:127.0.0.1 - - [27/Sep/2024 12:44:09] \"POST /process_image HTTP/1.1\" 200 -\n"
          ]
        }
      ],
      "source": [
        "# ngrok 터널 열기\n",
        "ngrok.set_auth_token(\"\")  # 이 부분에 실제 Ngrok 토큰을 추가하세요\n",
        "ngrok_tunnel = ngrok.connect(5000)\n",
        "public_url = ngrok_tunnel.public_url  # 정확한 URL만 추출\n",
        "print(\"ngrok URL:\", public_url)\n",
        "\n",
        "# Flask 앱 설정\n",
        "app = Flask(__name__)\n",
        "# CORS 설정: 모든 경로에 대해 모든 출처에서의 요청 허용\n",
        "CORS(app, resources={r\"/*\": {\"origins\": \"*\"}})\n",
        "\n",
        "@app.route('/process_image', methods=['POST', 'OPTIONS'])\n",
        "def process_image():\n",
        "    # OPTIONS 요청에 대한 응답\n",
        "    if request.method == 'OPTIONS':\n",
        "        return jsonify({'status': 'Preflight check successful'}), 200\n",
        "\n",
        "\n",
        "    # 텍스트 데이터와 파일 수신\n",
        "    input_text = request.form.get('text')\n",
        "    image_file = request.files['image']\n",
        "\n",
        "    # 한글을 영어로 번역 (translator 사용 가정)\n",
        "    input_text_english = translator.translate(input_text, src='ko', dest='en').text\n",
        "    print(input_text_english)\n",
        "\n",
        "    # 이미지 처리 (PIL을 사용하여 열기)\n",
        "    image = Image.open(image_file)\n",
        "\n",
        "    # 이미지가 RGBA 또는 다른 모드일 수 있으므로 RGB로 변환합니다.\n",
        "    image = image.convert('RGB')\n",
        "\n",
        "    # 이미지를 반전시킵니다.\n",
        "    image = ImageOps.invert(image)\n",
        "\n",
        "\n",
        "    image.save(\"/content/input.png\")\n",
        "    # 프롬프트 설정\n",
        "    prompt = (\n",
        "        f\"Generate a high-resolution, realistic photograph of {input_text_english}. \"\n",
        "        \"The image should feature realistic lighting, sharp details, and vivid backgrounds.\"\n",
        "    )\n",
        "    negative_prompt = \"low quality, blurry, oversaturated, worst quality\"\n",
        "\n",
        "\n",
        "    # 이미지 변환\n",
        "    with torch.no_grad():\n",
        "        result = pipe(\n",
        "            prompt=prompt,\n",
        "            image=image,\n",
        "            negative_prompt = negative_prompt,\n",
        "            num_inference_steps=30,\n",
        "            guidance_scale=7.5,\n",
        "            controlnet_conditioning_scale=1.0\n",
        "          )\n",
        "\n",
        "    # 변환된 결과 이미지\n",
        "\n",
        "    result_image = result.images[0]\n",
        "    result_image.save(\"/content/output.png\")\n",
        "    # 결과 이미지를 메모리로 저장\n",
        "    buffered = BytesIO()\n",
        "    result_image.save(buffered, format=\"PNG\")\n",
        "    buffered.seek(0)\n",
        "\n",
        "          # S3에 이미지 업로드 (파일명은 유니크하게 설정)\n",
        "    filename = secure_filename(f\"generated_image_{uuid.uuid4()}.png\")\n",
        "    s3.upload_fileobj(\n",
        "      buffered,  # 이미지 파일\n",
        "      BUCKET_NAME,  # S3 버킷 이름\n",
        "      filename,  # 파일 이름\n",
        "      ExtraArgs={'ContentType': 'image/png'}  # ContentType만 설정\n",
        "    )\n",
        "\n",
        "\n",
        "        # S3 URL 생성\n",
        "    image_url = f\"https://{BUCKET_NAME}.s3.amazonaws.com/{filename}\"\n",
        "\n",
        "    return jsonify({'image_url': image_url, 'text': input_text})\n",
        "\n",
        "    # except Exception as e:\n",
        "    #     return jsonify({'error': 'Failed to process image', 'message': str(e)}), 400\n",
        "\n",
        "\n",
        "if __name__ == '__main__':\n",
        "    app.run()"
      ]
    },
    {
      "cell_type": "code",
      "execution_count": null,
      "metadata": {
        "id": "qJqnB1FU7Nwz"
      },
      "outputs": [],
      "source": [
        "# 계속하다가 뜬금없는 에러가 뜬다면 한번쯤 해보기\n",
        "!kill $(pgrep ngrok)"
      ]
    }
  ],
  "metadata": {
    "accelerator": "GPU",
    "colab": {
      "gpuType": "T4",
      "machine_shape": "hm",
      "provenance": [],
      "mount_file_id": "1-FAq52nPJ-3NsB_sIvsgeIPTL867TJ7p",
      "authorship_tag": "ABX9TyPl3iMiblouFIC3AuotzePz",
      "include_colab_link": true
    },
    "kernelspec": {
      "display_name": "Python 3",
      "name": "python3"
    },
    "language_info": {
      "name": "python"
    },
    "widgets": {
      "application/vnd.jupyter.widget-state+json": {
        "5c103fe1691d43cb9cb161bc5e4378a9": {
          "model_module": "@jupyter-widgets/controls",
          "model_name": "HBoxModel",
          "model_module_version": "1.5.0",
          "state": {
            "_dom_classes": [],
            "_model_module": "@jupyter-widgets/controls",
            "_model_module_version": "1.5.0",
            "_model_name": "HBoxModel",
            "_view_count": null,
            "_view_module": "@jupyter-widgets/controls",
            "_view_module_version": "1.5.0",
            "_view_name": "HBoxView",
            "box_style": "",
            "children": [
              "IPY_MODEL_8711047a098b43dab56b843022d412c3",
              "IPY_MODEL_21bb24812817434198c657fba9115889",
              "IPY_MODEL_32917a4e2d7d4865910f032401395acb"
            ],
            "layout": "IPY_MODEL_e797a5d2b269478084afa5a0973205c0"
          }
        },
        "8711047a098b43dab56b843022d412c3": {
          "model_module": "@jupyter-widgets/controls",
          "model_name": "HTMLModel",
          "model_module_version": "1.5.0",
          "state": {
            "_dom_classes": [],
            "_model_module": "@jupyter-widgets/controls",
            "_model_module_version": "1.5.0",
            "_model_name": "HTMLModel",
            "_view_count": null,
            "_view_module": "@jupyter-widgets/controls",
            "_view_module_version": "1.5.0",
            "_view_name": "HTMLView",
            "description": "",
            "description_tooltip": null,
            "layout": "IPY_MODEL_c36cd70bd8374a3293c79ef190057360",
            "placeholder": "​",
            "style": "IPY_MODEL_00b2ad171e7d47d59cdffb39b7af9866",
            "value": "100%"
          }
        },
        "21bb24812817434198c657fba9115889": {
          "model_module": "@jupyter-widgets/controls",
          "model_name": "FloatProgressModel",
          "model_module_version": "1.5.0",
          "state": {
            "_dom_classes": [],
            "_model_module": "@jupyter-widgets/controls",
            "_model_module_version": "1.5.0",
            "_model_name": "FloatProgressModel",
            "_view_count": null,
            "_view_module": "@jupyter-widgets/controls",
            "_view_module_version": "1.5.0",
            "_view_name": "ProgressView",
            "bar_style": "success",
            "description": "",
            "description_tooltip": null,
            "layout": "IPY_MODEL_9b24d9f98c8449cd805488ef02f0059c",
            "max": 30,
            "min": 0,
            "orientation": "horizontal",
            "style": "IPY_MODEL_7bde7a5fcc984793a64c4233a7dbcfc3",
            "value": 30
          }
        },
        "32917a4e2d7d4865910f032401395acb": {
          "model_module": "@jupyter-widgets/controls",
          "model_name": "HTMLModel",
          "model_module_version": "1.5.0",
          "state": {
            "_dom_classes": [],
            "_model_module": "@jupyter-widgets/controls",
            "_model_module_version": "1.5.0",
            "_model_name": "HTMLModel",
            "_view_count": null,
            "_view_module": "@jupyter-widgets/controls",
            "_view_module_version": "1.5.0",
            "_view_name": "HTMLView",
            "description": "",
            "description_tooltip": null,
            "layout": "IPY_MODEL_e643dc46b7964445ad821439e5cd6420",
            "placeholder": "​",
            "style": "IPY_MODEL_015957b1d0b34654bf3ac42e361ba77a",
            "value": " 30/30 [00:06&lt;00:00,  4.87it/s]"
          }
        },
        "e797a5d2b269478084afa5a0973205c0": {
          "model_module": "@jupyter-widgets/base",
          "model_name": "LayoutModel",
          "model_module_version": "1.2.0",
          "state": {
            "_model_module": "@jupyter-widgets/base",
            "_model_module_version": "1.2.0",
            "_model_name": "LayoutModel",
            "_view_count": null,
            "_view_module": "@jupyter-widgets/base",
            "_view_module_version": "1.2.0",
            "_view_name": "LayoutView",
            "align_content": null,
            "align_items": null,
            "align_self": null,
            "border": null,
            "bottom": null,
            "display": null,
            "flex": null,
            "flex_flow": null,
            "grid_area": null,
            "grid_auto_columns": null,
            "grid_auto_flow": null,
            "grid_auto_rows": null,
            "grid_column": null,
            "grid_gap": null,
            "grid_row": null,
            "grid_template_areas": null,
            "grid_template_columns": null,
            "grid_template_rows": null,
            "height": null,
            "justify_content": null,
            "justify_items": null,
            "left": null,
            "margin": null,
            "max_height": null,
            "max_width": null,
            "min_height": null,
            "min_width": null,
            "object_fit": null,
            "object_position": null,
            "order": null,
            "overflow": null,
            "overflow_x": null,
            "overflow_y": null,
            "padding": null,
            "right": null,
            "top": null,
            "visibility": null,
            "width": null
          }
        },
        "c36cd70bd8374a3293c79ef190057360": {
          "model_module": "@jupyter-widgets/base",
          "model_name": "LayoutModel",
          "model_module_version": "1.2.0",
          "state": {
            "_model_module": "@jupyter-widgets/base",
            "_model_module_version": "1.2.0",
            "_model_name": "LayoutModel",
            "_view_count": null,
            "_view_module": "@jupyter-widgets/base",
            "_view_module_version": "1.2.0",
            "_view_name": "LayoutView",
            "align_content": null,
            "align_items": null,
            "align_self": null,
            "border": null,
            "bottom": null,
            "display": null,
            "flex": null,
            "flex_flow": null,
            "grid_area": null,
            "grid_auto_columns": null,
            "grid_auto_flow": null,
            "grid_auto_rows": null,
            "grid_column": null,
            "grid_gap": null,
            "grid_row": null,
            "grid_template_areas": null,
            "grid_template_columns": null,
            "grid_template_rows": null,
            "height": null,
            "justify_content": null,
            "justify_items": null,
            "left": null,
            "margin": null,
            "max_height": null,
            "max_width": null,
            "min_height": null,
            "min_width": null,
            "object_fit": null,
            "object_position": null,
            "order": null,
            "overflow": null,
            "overflow_x": null,
            "overflow_y": null,
            "padding": null,
            "right": null,
            "top": null,
            "visibility": null,
            "width": null
          }
        },
        "00b2ad171e7d47d59cdffb39b7af9866": {
          "model_module": "@jupyter-widgets/controls",
          "model_name": "DescriptionStyleModel",
          "model_module_version": "1.5.0",
          "state": {
            "_model_module": "@jupyter-widgets/controls",
            "_model_module_version": "1.5.0",
            "_model_name": "DescriptionStyleModel",
            "_view_count": null,
            "_view_module": "@jupyter-widgets/base",
            "_view_module_version": "1.2.0",
            "_view_name": "StyleView",
            "description_width": ""
          }
        },
        "9b24d9f98c8449cd805488ef02f0059c": {
          "model_module": "@jupyter-widgets/base",
          "model_name": "LayoutModel",
          "model_module_version": "1.2.0",
          "state": {
            "_model_module": "@jupyter-widgets/base",
            "_model_module_version": "1.2.0",
            "_model_name": "LayoutModel",
            "_view_count": null,
            "_view_module": "@jupyter-widgets/base",
            "_view_module_version": "1.2.0",
            "_view_name": "LayoutView",
            "align_content": null,
            "align_items": null,
            "align_self": null,
            "border": null,
            "bottom": null,
            "display": null,
            "flex": null,
            "flex_flow": null,
            "grid_area": null,
            "grid_auto_columns": null,
            "grid_auto_flow": null,
            "grid_auto_rows": null,
            "grid_column": null,
            "grid_gap": null,
            "grid_row": null,
            "grid_template_areas": null,
            "grid_template_columns": null,
            "grid_template_rows": null,
            "height": null,
            "justify_content": null,
            "justify_items": null,
            "left": null,
            "margin": null,
            "max_height": null,
            "max_width": null,
            "min_height": null,
            "min_width": null,
            "object_fit": null,
            "object_position": null,
            "order": null,
            "overflow": null,
            "overflow_x": null,
            "overflow_y": null,
            "padding": null,
            "right": null,
            "top": null,
            "visibility": null,
            "width": null
          }
        },
        "7bde7a5fcc984793a64c4233a7dbcfc3": {
          "model_module": "@jupyter-widgets/controls",
          "model_name": "ProgressStyleModel",
          "model_module_version": "1.5.0",
          "state": {
            "_model_module": "@jupyter-widgets/controls",
            "_model_module_version": "1.5.0",
            "_model_name": "ProgressStyleModel",
            "_view_count": null,
            "_view_module": "@jupyter-widgets/base",
            "_view_module_version": "1.2.0",
            "_view_name": "StyleView",
            "bar_color": null,
            "description_width": ""
          }
        },
        "e643dc46b7964445ad821439e5cd6420": {
          "model_module": "@jupyter-widgets/base",
          "model_name": "LayoutModel",
          "model_module_version": "1.2.0",
          "state": {
            "_model_module": "@jupyter-widgets/base",
            "_model_module_version": "1.2.0",
            "_model_name": "LayoutModel",
            "_view_count": null,
            "_view_module": "@jupyter-widgets/base",
            "_view_module_version": "1.2.0",
            "_view_name": "LayoutView",
            "align_content": null,
            "align_items": null,
            "align_self": null,
            "border": null,
            "bottom": null,
            "display": null,
            "flex": null,
            "flex_flow": null,
            "grid_area": null,
            "grid_auto_columns": null,
            "grid_auto_flow": null,
            "grid_auto_rows": null,
            "grid_column": null,
            "grid_gap": null,
            "grid_row": null,
            "grid_template_areas": null,
            "grid_template_columns": null,
            "grid_template_rows": null,
            "height": null,
            "justify_content": null,
            "justify_items": null,
            "left": null,
            "margin": null,
            "max_height": null,
            "max_width": null,
            "min_height": null,
            "min_width": null,
            "object_fit": null,
            "object_position": null,
            "order": null,
            "overflow": null,
            "overflow_x": null,
            "overflow_y": null,
            "padding": null,
            "right": null,
            "top": null,
            "visibility": null,
            "width": null
          }
        },
        "015957b1d0b34654bf3ac42e361ba77a": {
          "model_module": "@jupyter-widgets/controls",
          "model_name": "DescriptionStyleModel",
          "model_module_version": "1.5.0",
          "state": {
            "_model_module": "@jupyter-widgets/controls",
            "_model_module_version": "1.5.0",
            "_model_name": "DescriptionStyleModel",
            "_view_count": null,
            "_view_module": "@jupyter-widgets/base",
            "_view_module_version": "1.2.0",
            "_view_name": "StyleView",
            "description_width": ""
          }
        }
      }
    }
  },
  "nbformat": 4,
  "nbformat_minor": 0
}